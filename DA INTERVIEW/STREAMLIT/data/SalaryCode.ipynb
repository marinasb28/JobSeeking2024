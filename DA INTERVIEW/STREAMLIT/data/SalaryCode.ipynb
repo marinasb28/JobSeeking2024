{
 "cells": [
  {
   "cell_type": "markdown",
   "id": "63c0722e",
   "metadata": {},
   "source": [
    "# Salary Prediction Code"
   ]
  },
  {
   "cell_type": "markdown",
   "id": "61cd5ea1",
   "metadata": {},
   "source": [
    "## Imports"
   ]
  },
  {
   "cell_type": "code",
   "execution_count": 1,
   "id": "ce047de3",
   "metadata": {},
   "outputs": [],
   "source": [
    "# Basic Libraries\n",
    "import numpy as np\n",
    "import pandas as pd\n",
    "import pickle\n",
    "\n",
    "# Visualization\n",
    "import matplotlib.pyplot as plt\n",
    "\n",
    "# Scikit-Learn Models\n",
    "from sklearn.linear_model import LinearRegression\n",
    "from sklearn.tree import DecisionTreeRegressor\n",
    "from sklearn.ensemble import RandomForestRegressor\n",
    "\n",
    "# Scikit-Learn Utilities\n",
    "from sklearn.model_selection import GridSearchCV\n",
    "from sklearn.preprocessing import LabelEncoder\n",
    "\n",
    "# Scikit-Learn Metrics\n",
    "from sklearn.metrics import mean_absolute_error, mean_squared_error"
   ]
  },
  {
   "cell_type": "markdown",
   "id": "b61de54e",
   "metadata": {},
   "source": [
    "## Functions"
   ]
  },
  {
   "cell_type": "code",
   "execution_count": 2,
   "id": "d1315b65",
   "metadata": {},
   "outputs": [],
   "source": [
    "# Simplifica la impresión de los números\n",
    "def format_number(num):\n",
    "    if num >= 1_000_000:\n",
    "        return f\"{num / 1_000_000:.1f}M\"\n",
    "    elif num >= 1_000:\n",
    "        return f\"{num / 1_000:.1f}K\"\n",
    "    else:\n",
    "        return str(num)\n",
    "\n",
    "# Nos ayuda a deshacernos de aquellos países con pocos datos\n",
    "def cut_cat(category_data, threshold):\n",
    "    category_mapping = {}\n",
    "    for idx in range(len(category_data)):\n",
    "        if category_data.values[idx] >= threshold:\n",
    "            category_mapping[category_data.index[idx]] = category_data.index[idx]\n",
    "        else:  # if insufficient data, categorize as \"Other\"\n",
    "            category_mapping[category_data.index[idx]] = 'Other'\n",
    "    return category_mapping\n",
    "\n",
    "# Simplifica las strings\n",
    "def short_ed(x):\n",
    "    if 'Bachelor’s degree' in x:\n",
    "        return 'Bachelor’s degree'\n",
    "    if 'Master’s degree' in x:\n",
    "        return 'Master’s degree'\n",
    "    if 'Professional degree' in x or 'Other doctoral' in x:\n",
    "        return 'Post grad'\n",
    "    return 'Less than a Bachelors'"
   ]
  },
  {
   "cell_type": "markdown",
   "id": "778d4954",
   "metadata": {},
   "source": [
    "## Reading Dataset"
   ]
  },
  {
   "cell_type": "code",
   "execution_count": null,
   "id": "8b11fd46",
   "metadata": {},
   "outputs": [],
   "source": [
    "df = pd.read_csv(\"survey_results_public.csv\")\n",
    "df.head()"
   ]
  },
  {
   "cell_type": "markdown",
   "id": "7a6eeb3a",
   "metadata": {},
   "source": [
    "We want to keep the independet variables that will help us train our model."
   ]
  },
  {
   "cell_type": "code",
   "execution_count": null,
   "id": "31bdebdc",
   "metadata": {},
   "outputs": [],
   "source": [
    "keep = [\"Country\", \"EdLevel\", \"YearsCodePro\", \"Employment\", \"ConvertedCompYearly\"]\n",
    "df = df[keep]\n",
    "df = df.rename({\"ConvertedCompYearly\": \"Salary\"}, axis=1)\n",
    "df.head()"
   ]
  },
  {
   "cell_type": "markdown",
   "id": "16108c87",
   "metadata": {},
   "source": [
    "## Data cleaning"
   ]
  },
  {
   "cell_type": "markdown",
   "id": "4b2142cd",
   "metadata": {},
   "source": [
    "We will delete those rows where the salary was not input."
   ]
  },
  {
   "cell_type": "code",
   "execution_count": null,
   "id": "c7653efa",
   "metadata": {},
   "outputs": [],
   "source": [
    "df = df.dropna(subset=['Salary'])\n",
    "df.head()"
   ]
  },
  {
   "cell_type": "code",
   "execution_count": null,
   "id": "e4f290eb",
   "metadata": {},
   "outputs": [],
   "source": [
    "df.isnull().sum()"
   ]
  },
  {
   "cell_type": "markdown",
   "id": "5140c92c",
   "metadata": {},
   "source": [
    "We still need to get rid of some rows that are missing values.\n",
    "\n",
    "Another approach is to fill in those missing values with the mean of the values."
   ]
  },
  {
   "cell_type": "code",
   "execution_count": null,
   "id": "c1c2b6f7",
   "metadata": {},
   "outputs": [],
   "source": [
    "df = df.dropna()\n",
    "df.isnull().sum()"
   ]
  },
  {
   "cell_type": "markdown",
   "id": "aafebc27",
   "metadata": {},
   "source": [
    "We are just going to work with those **full-time** employees."
   ]
  },
  {
   "cell_type": "code",
   "execution_count": null,
   "id": "b876948a",
   "metadata": {},
   "outputs": [],
   "source": [
    "df = df[df[\"Employment\"].str.contains(\"full-time\", case=False, na=False)]\n",
    "\n",
    "df = df.drop(\"Employment\", axis=1) # we don't need thise column for the prediction\n",
    "df.info()"
   ]
  },
  {
   "cell_type": "markdown",
   "id": "149ad7a8",
   "metadata": {},
   "source": [
    "For some of the countries we only have 1 data point, which is irrelevant."
   ]
  },
  {
   "cell_type": "code",
   "execution_count": null,
   "id": "c551ab05",
   "metadata": {},
   "outputs": [],
   "source": [
    "df['Country'].value_counts()"
   ]
  },
  {
   "cell_type": "code",
   "execution_count": 10,
   "id": "cc09a5fe",
   "metadata": {},
   "outputs": [],
   "source": [
    "country_map = cut_cat(df.Country.value_counts(), 400)"
   ]
  },
  {
   "cell_type": "code",
   "execution_count": null,
   "id": "cbec1b4c",
   "metadata": {},
   "outputs": [],
   "source": [
    "df['Country'] = df['Country'].map(country_map)\n",
    "df.Country.value_counts()"
   ]
  },
  {
   "cell_type": "code",
   "execution_count": null,
   "id": "03a7116f",
   "metadata": {},
   "outputs": [],
   "source": [
    "fig, ax = plt.subplots(1,1, figsize=(12, 7))\n",
    "df.boxplot('Salary', 'Country', ax=ax)\n",
    "plt.suptitle('Salary (US$) v Country')\n",
    "plt.title('')\n",
    "plt.ylabel('Salary')\n",
    "plt.xticks(rotation=90)\n",
    "plt.show()"
   ]
  },
  {
   "cell_type": "code",
   "execution_count": 14,
   "id": "29b6b862",
   "metadata": {},
   "outputs": [],
   "source": [
    "df = df[df[\"Salary\"] <= 250000] # in our plot 0.2\n",
    "df = df[df[\"Salary\"] >= 10000]\n",
    "df = df[df['Country'] != 'Other'] # we will not keep other"
   ]
  },
  {
   "cell_type": "code",
   "execution_count": null,
   "id": "ca55b532",
   "metadata": {},
   "outputs": [],
   "source": [
    "fig, ax = plt.subplots(1,1, figsize=(12, 7))\n",
    "df.boxplot('Salary', 'Country', ax=ax)\n",
    "plt.suptitle('Salary (US$) v Country')\n",
    "plt.title('')\n",
    "plt.ylabel('Salary')\n",
    "plt.xticks(rotation=90)\n",
    "plt.show()"
   ]
  },
  {
   "cell_type": "code",
   "execution_count": null,
   "id": "82cf4507",
   "metadata": {},
   "outputs": [],
   "source": [
    "df[\"YearsCodePro\"].unique()"
   ]
  },
  {
   "cell_type": "markdown",
   "id": "62832544",
   "metadata": {},
   "source": [
    "In order to deal with numbers, we will get rid of those strings elements.\n",
    "\n",
    "```python\n",
    "if \"string x\":\n",
    "    return X\n",
    "else:\n",
    "    return X\n",
    "```"
   ]
  },
  {
   "cell_type": "code",
   "execution_count": 17,
   "id": "92685373",
   "metadata": {},
   "outputs": [],
   "source": [
    "df['YearsCodePro'] = df['YearsCodePro'].apply(lambda x: 0.5 if x == 'Less than 1 year' else float(x))\n"
   ]
  },
  {
   "cell_type": "markdown",
   "id": "4d472ed7",
   "metadata": {},
   "source": [
    "We do the same thing with \"EdLevel\" column."
   ]
  },
  {
   "cell_type": "code",
   "execution_count": null,
   "id": "c40b1ed5",
   "metadata": {},
   "outputs": [],
   "source": [
    "df[\"EdLevel\"].unique()"
   ]
  },
  {
   "cell_type": "code",
   "execution_count": 19,
   "id": "a24a1436",
   "metadata": {},
   "outputs": [],
   "source": [
    "df['EdLevel'] = df['EdLevel'].apply(short_ed)"
   ]
  },
  {
   "cell_type": "code",
   "execution_count": null,
   "id": "9ce8792f",
   "metadata": {},
   "outputs": [],
   "source": [
    "df[\"EdLevel\"].unique()"
   ]
  },
  {
   "cell_type": "markdown",
   "id": "f95b8ea1",
   "metadata": {},
   "source": [
    "#### STREAMLIT HELP"
   ]
  },
  {
   "cell_type": "code",
   "execution_count": null,
   "id": "322a2018",
   "metadata": {},
   "outputs": [],
   "source": [
    "ed_tuple = tuple(df[\"EdLevel\"].unique())\n",
    "\n",
    "for ed in ed_tuple:\n",
    "    print(ed)"
   ]
  },
  {
   "cell_type": "code",
   "execution_count": null,
   "id": "7afb3743",
   "metadata": {},
   "outputs": [],
   "source": [
    "country_tuple = tuple(df[\"Country\"].unique())\n",
    "\n",
    "for country in country_tuple:\n",
    "    print(country)"
   ]
  },
  {
   "cell_type": "markdown",
   "id": "e0b7c0a9",
   "metadata": {},
   "source": [
    "## Transform data"
   ]
  },
  {
   "cell_type": "markdown",
   "id": "b8d748fd",
   "metadata": {},
   "source": [
    "Notice that we are dealing with strings & numbers, and computers understand binary code, therefore we will need to transform those strings columns to number."
   ]
  },
  {
   "cell_type": "code",
   "execution_count": null,
   "id": "896e4b84",
   "metadata": {},
   "outputs": [],
   "source": [
    "le_ed = LabelEncoder()\n",
    "df['EdLevel'] = le_ed.fit_transform(df['EdLevel'])\n",
    "df[\"EdLevel\"].unique()"
   ]
  },
  {
   "cell_type": "code",
   "execution_count": null,
   "id": "3ee6c3b5",
   "metadata": {},
   "outputs": [],
   "source": [
    "le_country = LabelEncoder()\n",
    "df['Country'] = le_country.fit_transform(df['Country'])\n",
    "df[\"Country\"].unique()"
   ]
  },
  {
   "cell_type": "markdown",
   "id": "2d0c3292",
   "metadata": {},
   "source": [
    "## Model Training"
   ]
  },
  {
   "cell_type": "markdown",
   "id": "8b740889",
   "metadata": {},
   "source": [
    "We need to split the model in features and the target."
   ]
  },
  {
   "cell_type": "code",
   "execution_count": 24,
   "id": "69a25de0",
   "metadata": {},
   "outputs": [],
   "source": [
    "X = df.drop(\"Salary\", axis=1) #feature\n",
    "y = df[\"Salary\"] #target "
   ]
  },
  {
   "cell_type": "markdown",
   "id": "ae344849",
   "metadata": {},
   "source": [
    "### Regression problem\n",
    "\n",
    "We are not predidcting a defined category cat/dog, we are predicting numbers | Not classifying"
   ]
  },
  {
   "cell_type": "code",
   "execution_count": null,
   "id": "8e1e3581",
   "metadata": {},
   "outputs": [],
   "source": [
    "linear_reg = LinearRegression()\n",
    "linear_reg.fit(X, y.values)"
   ]
  },
  {
   "cell_type": "code",
   "execution_count": 26,
   "id": "b8e531e2",
   "metadata": {},
   "outputs": [],
   "source": [
    "y_pred = linear_reg.predict(X)"
   ]
  },
  {
   "cell_type": "markdown",
   "id": "34e271f3",
   "metadata": {},
   "source": [
    "Noticed that our range is from 10K to 2.500K"
   ]
  },
  {
   "cell_type": "code",
   "execution_count": null,
   "id": "5eb0fd40",
   "metadata": {},
   "outputs": [],
   "source": [
    "error = np.sqrt(mean_squared_error(y, y_pred))\n",
    "print(f\"We are getting around -> ${format_number(error)}\")"
   ]
  },
  {
   "cell_type": "markdown",
   "id": "aab0d9f8",
   "metadata": {},
   "source": [
    "### Decision Tree"
   ]
  },
  {
   "cell_type": "code",
   "execution_count": null,
   "id": "2e633868",
   "metadata": {},
   "outputs": [],
   "source": [
    "dec_tree_reg = DecisionTreeRegressor(random_state=0)\n",
    "dec_tree_reg.fit(X, y.values)"
   ]
  },
  {
   "cell_type": "code",
   "execution_count": 29,
   "id": "9953f8bc",
   "metadata": {},
   "outputs": [],
   "source": [
    "y_pred = dec_tree_reg.predict(X)"
   ]
  },
  {
   "cell_type": "code",
   "execution_count": null,
   "id": "806839af",
   "metadata": {},
   "outputs": [],
   "source": [
    "error = np.sqrt(mean_squared_error(y, y_pred))\n",
    "print(f\"We are getting around -> ${format_number(error)}\")"
   ]
  },
  {
   "cell_type": "markdown",
   "id": "13c05f5b",
   "metadata": {},
   "source": [
    "### Random Forest"
   ]
  },
  {
   "cell_type": "code",
   "execution_count": null,
   "id": "62d12912",
   "metadata": {},
   "outputs": [],
   "source": [
    "random_forest_reg = RandomForestRegressor(random_state=0)\n",
    "random_forest_reg.fit(X, y.values)"
   ]
  },
  {
   "cell_type": "code",
   "execution_count": 32,
   "id": "9a58e86e",
   "metadata": {},
   "outputs": [],
   "source": [
    "y_pred = random_forest_reg.predict(X)"
   ]
  },
  {
   "cell_type": "code",
   "execution_count": null,
   "id": "b9c9f8a4",
   "metadata": {},
   "outputs": [],
   "source": [
    "error = np.sqrt(mean_squared_error(y, y_pred))\n",
    "print(f\"We are getting around -> ${format_number(error)}\")"
   ]
  },
  {
   "cell_type": "markdown",
   "id": "5802018d",
   "metadata": {},
   "source": [
    "**GRIDSEARCH**\n",
    "\n",
    "We can use GridSearchCV to find the best parameters for our models"
   ]
  },
  {
   "cell_type": "code",
   "execution_count": null,
   "id": "36db7870",
   "metadata": {},
   "outputs": [],
   "source": [
    "max_depth = [None, 2,4,6,8,10,12]\n",
    "parameters = {\"max_depth\": max_depth}\n",
    "\n",
    "regressor = DecisionTreeRegressor(random_state=0)\n",
    "gs = GridSearchCV(regressor, parameters, scoring='neg_mean_squared_error')\n",
    "gs.fit(X, y.values)"
   ]
  },
  {
   "cell_type": "markdown",
   "id": "73db5e74",
   "metadata": {},
   "source": [
    "After doing so, we are going to test it again."
   ]
  },
  {
   "cell_type": "code",
   "execution_count": null,
   "id": "11fddae1",
   "metadata": {},
   "outputs": [],
   "source": [
    "regressor = gs.best_estimator_\n",
    "\n",
    "regressor.fit(X, y.values)\n",
    "y_pred = regressor.predict(X)\n",
    "error = np.sqrt(mean_squared_error(y, y_pred))\n",
    "print(f\"We are getting around -> ${format_number(error)}\")"
   ]
  },
  {
   "cell_type": "code",
   "execution_count": null,
   "id": "d1c7b5ac",
   "metadata": {},
   "outputs": [],
   "source": [
    "X"
   ]
  },
  {
   "cell_type": "markdown",
   "metadata": {},
   "source": [
    "Imagine we are getting a new row with the following characteristics (yo)"
   ]
  },
  {
   "cell_type": "code",
   "execution_count": null,
   "id": "c947101a",
   "metadata": {},
   "outputs": [],
   "source": [
    "# country, edlevel, yearscode\n",
    "X = np.array([[\"Spain\", 'Bachelor’s degree', 1 ]])\n",
    "X"
   ]
  },
  {
   "cell_type": "markdown",
   "id": "b648fb20",
   "metadata": {},
   "source": [
    "We apply the label enconder for contry & education level"
   ]
  },
  {
   "cell_type": "code",
   "execution_count": null,
   "id": "914062f3",
   "metadata": {},
   "outputs": [],
   "source": [
    "X[:, 0] = le_country.transform(X[:,0])\n",
    "X[:, 1] = le_ed.transform(X[:,1])\n",
    "X = X.astype(float) #float aarray\n",
    "X"
   ]
  },
  {
   "cell_type": "code",
   "execution_count": null,
   "id": "258d1fab",
   "metadata": {},
   "outputs": [],
   "source": [
    "y_pred = regressor.predict(X)\n",
    "print(f\"The predicted salary is ${format_number(y_pred[0])}\")"
   ]
  },
  {
   "cell_type": "markdown",
   "id": "17586c0d",
   "metadata": {},
   "source": [
    "## Exporting our model"
   ]
  },
  {
   "cell_type": "markdown",
   "id": "dc546564",
   "metadata": {},
   "source": [
    "Saving model"
   ]
  },
  {
   "cell_type": "code",
   "execution_count": 40,
   "id": "6fc64774",
   "metadata": {},
   "outputs": [],
   "source": [
    "data = {\"model\": regressor, \"le_country\": le_country, \"le_education\": le_ed}\n",
    "with open('salary_pred_model.pkl', 'wb') as file:\n",
    "    pickle.dump(data, file)"
   ]
  },
  {
   "cell_type": "markdown",
   "id": "9da120f1",
   "metadata": {},
   "source": [
    "Open model"
   ]
  },
  {
   "cell_type": "code",
   "execution_count": 41,
   "id": "6aefe42c",
   "metadata": {},
   "outputs": [],
   "source": [
    "with open('salary_pred_model.pkl', 'rb') as file:\n",
    "    data = pickle.load(file)\n",
    "\n",
    "regressor_loaded = data[\"model\"]\n",
    "le_country = data[\"le_country\"]\n",
    "le_ed = data[\"le_education\"]"
   ]
  },
  {
   "cell_type": "markdown",
   "id": "61481562",
   "metadata": {},
   "source": [
    "Let's run the prediction with our loaded model. We should get the save value"
   ]
  },
  {
   "cell_type": "code",
   "execution_count": null,
   "id": "eeb1983b",
   "metadata": {},
   "outputs": [],
   "source": [
    "y_pred2 = regressor_loaded.predict(X)\n",
    "if y_pred == y_pred2:\n",
    "    print(\"We are getting the same value.\")\n",
    "    print(f\"${format_number(y_pred[0])}\") # 38.8K\n",
    "else:\n",
    "    print(\"Different value this time.\")\n",
    "    print(f\"The new predicted salary is ${format_number(y_pred2[0])}\")"
   ]
  }
 ],
 "metadata": {
  "kernelspec": {
   "display_name": "Python 3",
   "language": "python",
   "name": "python3"
  },
  "language_info": {
   "codemirror_mode": {
    "name": "ipython",
    "version": 3
   },
   "file_extension": ".py",
   "mimetype": "text/x-python",
   "name": "python",
   "nbconvert_exporter": "python",
   "pygments_lexer": "ipython3",
   "version": "3.12.0"
  }
 },
 "nbformat": 4,
 "nbformat_minor": 5
}
